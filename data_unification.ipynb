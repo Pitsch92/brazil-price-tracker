{
 "cells": [
  {
   "cell_type": "code",
   "execution_count": 1,
   "id": "298f7be2",
   "metadata": {},
   "outputs": [],
   "source": [
    "import pandas as pd\n",
    "from IPython.display import display\n",
    "import glob\n",
    "import os"
   ]
  },
  {
   "cell_type": "code",
   "execution_count": 2,
   "id": "afd1d74a",
   "metadata": {},
   "outputs": [],
   "source": [
    "df_ml = pd.DataFrame()\n",
    "df_ama = pd.DataFrame()\n",
    "df_pf = pd.DataFrame()\n",
    "df_qq = pd.DataFrame()"
   ]
  },
  {
   "cell_type": "code",
   "execution_count": 3,
   "id": "8d4ac728",
   "metadata": {},
   "outputs": [
    {
     "name": "stdout",
     "output_type": "stream",
     "text": [
      "Processing file: iphone_16_2025-05-14_Magazine Luiza.csv\n",
      "Processing file: iphone_16_2025-05-15_Magazine Luiza.csv\n",
      "Processing file: iphone_16_2025-05-18_Magazine Luiza.csv\n",
      "Processing file: iphone_16_2025-05-19_Magazine Luiza.csv\n"
     ]
    }
   ],
   "source": [
    "file_pattern = 'iphone_16_*_Magazine Luiza.csv'\n",
    "file_list = glob.glob(file_pattern)\n",
    "for file in file_list:\n",
    "    print(f\"Processing file: {file}\")\n",
    "    df_temp = pd.read_csv(file)\n",
    "    df_ml = pd.concat([df_ml, df_temp], ignore_index=True)"
   ]
  },
  {
   "cell_type": "code",
   "execution_count": 4,
   "id": "72c9961c",
   "metadata": {},
   "outputs": [
    {
     "name": "stdout",
     "output_type": "stream",
     "text": [
      "Processing file: iphone_16_2025-05-15_Americanas.csv\n",
      "Processing file: iphone_16_2025-05-19_Americanas.csv\n"
     ]
    }
   ],
   "source": [
    "file_pattern = 'iphone_16_*_Americanas.csv'\n",
    "file_list = glob.glob(file_pattern)\n",
    "for file in file_list:\n",
    "    print(f\"Processing file: {file}\")\n",
    "    df_temp = pd.read_csv(file)\n",
    "    df_ml = pd.concat([df_ml, df_temp], ignore_index=True)"
   ]
  },
  {
   "cell_type": "code",
   "execution_count": 5,
   "id": "f5556b20",
   "metadata": {},
   "outputs": [
    {
     "name": "stdout",
     "output_type": "stream",
     "text": [
      "Processing file: iphone_16_2025-05-15_Ponto Frio.csv\n",
      "Processing file: iphone_16_2025-05-18_Ponto Frio.csv\n",
      "Processing file: iphone_16_2025-05-19_Ponto Frio.csv\n"
     ]
    }
   ],
   "source": [
    "file_pattern = 'iphone_16_*_Ponto Frio.csv'\n",
    "file_list = glob.glob(file_pattern)\n",
    "for file in file_list:\n",
    "    print(f\"Processing file: {file}\")\n",
    "    df_temp = pd.read_csv(file)\n",
    "    df_ml = pd.concat([df_ml, df_temp], ignore_index=True)"
   ]
  },
  {
   "cell_type": "code",
   "execution_count": 6,
   "id": "83feafd9",
   "metadata": {},
   "outputs": [
    {
     "name": "stdout",
     "output_type": "stream",
     "text": [
      "Processing file: iphone_16_2025-05-15_Quero Quero.csv\n",
      "Processing file: iphone_16_2025-05-18_Quero Quero.csv\n",
      "Processing file: iphone_16_2025-05-19_Quero Quero.csv\n"
     ]
    }
   ],
   "source": [
    "file_pattern = 'iphone_16_*_Quero Quero.csv'\n",
    "file_list = glob.glob(file_pattern)\n",
    "for file in file_list:\n",
    "    print(f\"Processing file: {file}\")\n",
    "    df_temp = pd.read_csv(file)\n",
    "    df_ml = pd.concat([df_ml, df_temp], ignore_index=True)"
   ]
  },
  {
   "cell_type": "code",
   "execution_count": 7,
   "id": "a2a1e2d5",
   "metadata": {},
   "outputs": [],
   "source": [
    "df_completo = pd.concat([df_ml, df_ama, df_pf, df_qq], ignore_index=True)"
   ]
  },
  {
   "cell_type": "code",
   "execution_count": 8,
   "id": "728d0968",
   "metadata": {},
   "outputs": [
    {
     "data": {
      "text/html": [
       "<div>\n",
       "<style scoped>\n",
       "    .dataframe tbody tr th:only-of-type {\n",
       "        vertical-align: middle;\n",
       "    }\n",
       "\n",
       "    .dataframe tbody tr th {\n",
       "        vertical-align: top;\n",
       "    }\n",
       "\n",
       "    .dataframe thead th {\n",
       "        text-align: right;\n",
       "    }\n",
       "</style>\n",
       "<table border=\"1\" class=\"dataframe\">\n",
       "  <thead>\n",
       "    <tr style=\"text-align: right;\">\n",
       "      <th></th>\n",
       "      <th>Produto</th>\n",
       "      <th>Preço</th>\n",
       "      <th>Fornecedor</th>\n",
       "      <th>Data</th>\n",
       "    </tr>\n",
       "  </thead>\n",
       "  <tbody>\n",
       "    <tr>\n",
       "      <th>0</th>\n",
       "      <td>Apple iPhone 16e 128GB Branco 6,1\" 48MP iOS 5G</td>\n",
       "      <td>4166.04</td>\n",
       "      <td>Magazine Luiza</td>\n",
       "      <td>2025-05-14</td>\n",
       "    </tr>\n",
       "    <tr>\n",
       "      <th>1</th>\n",
       "      <td>Apple iPhone 16 128GB Rosa 6,1\" 48MP iOS 5G</td>\n",
       "      <td>5309.10</td>\n",
       "      <td>Magazine Luiza</td>\n",
       "      <td>2025-05-14</td>\n",
       "    </tr>\n",
       "    <tr>\n",
       "      <th>2</th>\n",
       "      <td>Apple iPhone 16 Pro 128GB Titânio Preto 6,3\" 4...</td>\n",
       "      <td>8549.10</td>\n",
       "      <td>Magazine Luiza</td>\n",
       "      <td>2025-05-14</td>\n",
       "    </tr>\n",
       "    <tr>\n",
       "      <th>3</th>\n",
       "      <td>iPhone 16 Pro Max Apple 256GB, Câmera Tripla d...</td>\n",
       "      <td>10118.90</td>\n",
       "      <td>Magazine Luiza</td>\n",
       "      <td>2025-05-14</td>\n",
       "    </tr>\n",
       "    <tr>\n",
       "      <th>4</th>\n",
       "      <td>iPhone 16 Pro Max Apple 256GB, Câmera Tripla d...</td>\n",
       "      <td>10228.90</td>\n",
       "      <td>Magazine Luiza</td>\n",
       "      <td>2025-05-14</td>\n",
       "    </tr>\n",
       "    <tr>\n",
       "      <th>...</th>\n",
       "      <td>...</td>\n",
       "      <td>...</td>\n",
       "      <td>...</td>\n",
       "      <td>...</td>\n",
       "    </tr>\n",
       "    <tr>\n",
       "      <th>459</th>\n",
       "      <td>iPhone 16 Pro Max Apple (256GB) Titânio Natura...</td>\n",
       "      <td>10370.00</td>\n",
       "      <td>Quero Quero</td>\n",
       "      <td>2025-05-19</td>\n",
       "    </tr>\n",
       "    <tr>\n",
       "      <th>460</th>\n",
       "      <td>iPhone 16 Pro  Apple (256GB) Titânio Deserto, ...</td>\n",
       "      <td>9500.00</td>\n",
       "      <td>Quero Quero</td>\n",
       "      <td>2025-05-19</td>\n",
       "    </tr>\n",
       "    <tr>\n",
       "      <th>461</th>\n",
       "      <td>iPhone 16 Pro Max Apple (512GB) Titânio Branco...</td>\n",
       "      <td>11900.00</td>\n",
       "      <td>Quero Quero</td>\n",
       "      <td>2025-05-19</td>\n",
       "    </tr>\n",
       "    <tr>\n",
       "      <th>462</th>\n",
       "      <td>iPhone 16 Pro Max Apple (1TB) Titânio Preto, T...</td>\n",
       "      <td>13990.00</td>\n",
       "      <td>Quero Quero</td>\n",
       "      <td>2025-05-19</td>\n",
       "    </tr>\n",
       "    <tr>\n",
       "      <th>463</th>\n",
       "      <td>Apple Iphone 16 128GB 8GB RAM Câmera de Até 48...</td>\n",
       "      <td>8499.90</td>\n",
       "      <td>Quero Quero</td>\n",
       "      <td>2025-05-19</td>\n",
       "    </tr>\n",
       "  </tbody>\n",
       "</table>\n",
       "<p>464 rows × 4 columns</p>\n",
       "</div>"
      ],
      "text/plain": [
       "                                               Produto     Preço  \\\n",
       "0       Apple iPhone 16e 128GB Branco 6,1\" 48MP iOS 5G   4166.04   \n",
       "1          Apple iPhone 16 128GB Rosa 6,1\" 48MP iOS 5G   5309.10   \n",
       "2    Apple iPhone 16 Pro 128GB Titânio Preto 6,3\" 4...   8549.10   \n",
       "3    iPhone 16 Pro Max Apple 256GB, Câmera Tripla d...  10118.90   \n",
       "4    iPhone 16 Pro Max Apple 256GB, Câmera Tripla d...  10228.90   \n",
       "..                                                 ...       ...   \n",
       "459  iPhone 16 Pro Max Apple (256GB) Titânio Natura...  10370.00   \n",
       "460  iPhone 16 Pro  Apple (256GB) Titânio Deserto, ...   9500.00   \n",
       "461  iPhone 16 Pro Max Apple (512GB) Titânio Branco...  11900.00   \n",
       "462  iPhone 16 Pro Max Apple (1TB) Titânio Preto, T...  13990.00   \n",
       "463  Apple Iphone 16 128GB 8GB RAM Câmera de Até 48...   8499.90   \n",
       "\n",
       "         Fornecedor        Data  \n",
       "0    Magazine Luiza  2025-05-14  \n",
       "1    Magazine Luiza  2025-05-14  \n",
       "2    Magazine Luiza  2025-05-14  \n",
       "3    Magazine Luiza  2025-05-14  \n",
       "4    Magazine Luiza  2025-05-14  \n",
       "..              ...         ...  \n",
       "459     Quero Quero  2025-05-19  \n",
       "460     Quero Quero  2025-05-19  \n",
       "461     Quero Quero  2025-05-19  \n",
       "462     Quero Quero  2025-05-19  \n",
       "463     Quero Quero  2025-05-19  \n",
       "\n",
       "[464 rows x 4 columns]"
      ]
     },
     "metadata": {},
     "output_type": "display_data"
    }
   ],
   "source": [
    "display(df_completo)"
   ]
  },
  {
   "cell_type": "code",
   "execution_count": null,
   "id": "cce8e4b1",
   "metadata": {},
   "outputs": [],
   "source": [
    "nome = 'full_table' + df_completo['Data'].dt.date.iloc[0].strftime('%Y-%m-%d') + '.csv'\n",
    "df_completo.to_csv(nome, index=False, encoding='utf-8-sig')"
   ]
  }
 ],
 "metadata": {
  "kernelspec": {
   "display_name": "Python 3",
   "language": "python",
   "name": "python3"
  },
  "language_info": {
   "codemirror_mode": {
    "name": "ipython",
    "version": 3
   },
   "file_extension": ".py",
   "mimetype": "text/x-python",
   "name": "python",
   "nbconvert_exporter": "python",
   "pygments_lexer": "ipython3",
   "version": "3.12.10"
  }
 },
 "nbformat": 4,
 "nbformat_minor": 5
}
